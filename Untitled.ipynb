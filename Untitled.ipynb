{
 "cells": [
  {
   "cell_type": "code",
   "execution_count": 9,
   "id": "7b77653f-f676-4f44-b257-aeceed62e2fe",
   "metadata": {},
   "outputs": [
    {
     "name": "stdin",
     "output_type": "stream",
     "text": [
      "Enter the plaintext for encryption:  Maaz25\n"
     ]
    },
    {
     "name": "stdout",
     "output_type": "stream",
     "text": [
      "Encrypted: 2622306927441626482729735766584003891632058587103411012876951354252568001594812910703367908863249621503391633329096054638437320224412401209989542929282197233120665143510788543744309854576659248865370220377096840799442899478635724083442920773884318307131882123239845629734911190732339662973114800177968528796866077610372273402343721982572995616217729390449852556126931432562216263542511502770926801037002365379178354401066554792164476331614100175090196605272029551675546108154666852330617076706005604961080266962889041769954030216000213227882310763625766699086058782531890512242372723872342804520183880818213425936955\n"
     ]
    },
    {
     "name": "stdin",
     "output_type": "stream",
     "text": [
      "Enter the ciphertext for decryption:  2622306927441626482729735766584003891632058587103411012876951354252568001594812910703367908863249621503391633329096054638437320224412401209989542929282197233120665143510788543744309854576659248865370220377096840799442899478635724083442920773884318307131882123239845629734911190732339662973114800177968528796866077610372273402343721982572995616217729390449852556126931432562216263542511502770926801037002365379178354401066554792164476331614100175090196605272029551675546108154666852330617076706005604961080266962889041769954030216000213227882310763625766699086058782531890512242372723872342804520183880818213425936955\n"
     ]
    },
    {
     "name": "stdout",
     "output_type": "stream",
     "text": [
      "Decrypted: Maaz25\n"
     ]
    }
   ],
   "source": [
    "import random\n",
    "import math\n",
    "from sympy import isprime, mod_inverse\n",
    "\n",
    "def caesar_cipher(text, shift):\n",
    "    \"\"\"Apply Caesar cipher to the given text with the specified shift.\"\"\"\n",
    "    result = \"\"\n",
    "    for char in text:\n",
    "        if char.isalpha():\n",
    "            shift_base = 65 if char.isupper() else 97\n",
    "            result += chr((ord(char) - shift_base + shift) % 26 + shift_base)\n",
    "        else:\n",
    "            result += char\n",
    "    return result\n",
    "\n",
    "def columnar_transposition_encrypt(plaintext, key):\n",
    "    \"\"\"Apply columnar transposition cipher to the given plaintext with the specified key.\"\"\"\n",
    "    # Create an empty matrix to store the transposition\n",
    "    matrix = [''] * key\n",
    "    for i, char in enumerate(plaintext):\n",
    "        column = i % key\n",
    "        matrix[column] += char\n",
    "    # Concatenate columns to get ciphertext\n",
    "    ciphertext = ''.join(matrix)\n",
    "    return ciphertext\n",
    "\n",
    "def columnar_transposition_decrypt(ciphertext, key):\n",
    "    \"\"\"Decrypt columnar transposition cipher with the specified key.\"\"\"\n",
    "    num_cols = key\n",
    "    num_rows = len(ciphertext) // num_cols\n",
    "    num_extra_chars = len(ciphertext) % num_cols\n",
    "\n",
    "    matrix = [''] * num_cols\n",
    "    index = 0\n",
    "    \n",
    "    for col in range(num_cols):\n",
    "        num_chars = num_rows + 1 if col < num_extra_chars else num_rows\n",
    "        matrix[col] = ciphertext[index:index + num_chars]\n",
    "        index += num_chars\n",
    "    \n",
    "    plaintext = ''\n",
    "    for row in range(num_rows + 1):\n",
    "        for col in range(num_cols):\n",
    "            if row < len(matrix[col]):\n",
    "                plaintext += matrix[col][row]\n",
    "    return plaintext\n",
    "\n",
    "def generate_keypair(bits):\n",
    "    # Generate two large prime numbers p and q\n",
    "    p = random.getrandbits(bits)\n",
    "    while not isprime(p):\n",
    "        p = random.getrandbits(bits)\n",
    "    \n",
    "    q = random.getrandbits(bits)\n",
    "    while not isprime(q):\n",
    "        q = random.getrandbits(bits)\n",
    "    \n",
    "    # Compute n and φ(n)\n",
    "    n = p * q\n",
    "    phi = (p - 1) * (q - 1)\n",
    "    \n",
    "    # Choose e such that 1 < e < φ(n) and gcd(e, φ(n)) = 1\n",
    "    e = random.randrange(2, phi)\n",
    "    while math.gcd(e, phi) != 1:\n",
    "        e = random.randrange(2, phi)\n",
    "    \n",
    "    # Compute d, the modular multiplicative inverse of e\n",
    "    d = mod_inverse(e, phi)\n",
    "    \n",
    "    # Public key (e, n) and private key (d, n)\n",
    "    return ((e, n), (d, n))\n",
    "\n",
    "def encrypt(public_key, plaintext, caesar_shift=3, transposition_key=5):\n",
    "    e, n = public_key\n",
    "    # Apply Caesar cipher to the plaintext\n",
    "    substituted_plaintext = caesar_cipher(plaintext, caesar_shift)\n",
    "    # Apply columnar transposition cipher to the substituted plaintext\n",
    "    transposed_plaintext = columnar_transposition_encrypt(substituted_plaintext, transposition_key)\n",
    "    # Transform the transposed plaintext (e.g., reverse the string)\n",
    "    transformed_plaintext = transposed_plaintext[::-1]\n",
    "    # Convert the transformed plaintext to an integer\n",
    "    plaintext_int = int.from_bytes(transformed_plaintext.encode(), 'big')\n",
    "    # Encrypt the integer\n",
    "    ciphertext = pow(plaintext_int, e, n)\n",
    "    return ciphertext\n",
    "\n",
    "def decrypt(private_key, ciphertext, caesar_shift=3, transposition_key=5):\n",
    "    d, n = private_key\n",
    "    # Decrypt the integer\n",
    "    plaintext_int = pow(ciphertext, d, n)\n",
    "    # Convert the integer back to bytes\n",
    "    transformed_plaintext = plaintext_int.to_bytes((plaintext_int.bit_length() + 7) // 8, 'big').decode()\n",
    "    # Reverse the transformation applied during encryption\n",
    "    transposed_plaintext = transformed_plaintext[::-1]\n",
    "    # Decrypt the columnar transposition cipher\n",
    "    substituted_plaintext = columnar_transposition_decrypt(transposed_plaintext, transposition_key)\n",
    "    # Apply Caesar cipher in reverse to get the original plaintext\n",
    "    plaintext = caesar_cipher(substituted_plaintext, -caesar_shift)\n",
    "    return plaintext\n",
    "\n",
    "if __name__ == \"__main__\":\n",
    "    # Generate key pair\n",
    "    public_key, private_key = generate_keypair(1024)\n",
    "    \n",
    "    # Ask user for plaintext\n",
    "    plaintext = input(\"Enter the plaintext for encryption: \")\n",
    "    \n",
    "    # Encrypt the plaintext\n",
    "    ciphertext = encrypt(public_key, plaintext)\n",
    "    print(f\"Encrypted: {ciphertext}\")\n",
    "    \n",
    "    # Ask user for ciphertext\n",
    "    ciphertext_input = int(input(\"Enter the ciphertext for decryption: \"))\n",
    "    \n",
    "    # Decrypt the ciphertext\n",
    "    decrypted_plaintext = decrypt(private_key, ciphertext_input)\n",
    "    print(f\"Decrypted: {decrypted_plaintext}\")\n"
   ]
  },
  {
   "cell_type": "code",
   "execution_count": null,
   "id": "00751e78-f451-418d-a78a-e89b5b97f736",
   "metadata": {},
   "outputs": [],
   "source": []
  }
 ],
 "metadata": {
  "kernelspec": {
   "display_name": "Python 3 (ipykernel)",
   "language": "python",
   "name": "python3"
  },
  "language_info": {
   "codemirror_mode": {
    "name": "ipython",
    "version": 3
   },
   "file_extension": ".py",
   "mimetype": "text/x-python",
   "name": "python",
   "nbconvert_exporter": "python",
   "pygments_lexer": "ipython3",
   "version": "3.12.7"
  }
 },
 "nbformat": 4,
 "nbformat_minor": 5
}
